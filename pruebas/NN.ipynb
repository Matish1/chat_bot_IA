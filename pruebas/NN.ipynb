{
 "cells": [
  {
   "cell_type": "code",
   "execution_count": 1,
   "metadata": {},
   "outputs": [],
   "source": [
    "from __future__ import absolute_import, division, print_function, unicode_literals\n",
    "\n",
    "import collections\n",
    "import matplotlib.pyplot as plt\n",
    "import numpy as np\n",
    "\n",
    "import os\n",
    "\n",
    "#import pandas\n",
    "#from sklearn.preprocessing import MinMaxScaler\n",
    "#from sklearn.metrics import mean_squared_error\n",
    "\n",
    "\n",
    "import tensorflow as tf\n",
    "\n",
    "from tensorflow.keras import layers"
   ]
  },
  {
   "cell_type": "code",
   "execution_count": 2,
   "metadata": {},
   "outputs": [],
   "source": [
    "caracteres={'0':0,'1':1,'2':2,'3':3,'4':4,'5':5,'6':6,'7':7,'8':8,'9':9}"
   ]
  },
  {
   "cell_type": "code",
   "execution_count": 3,
   "metadata": {},
   "outputs": [],
   "source": [
    "VOCABULARIO=len(caracteres)\n",
    "LONGITUD=6\n",
    "FICHERO_PESOS=\"modelos/pesosNN.hdf5\""
   ]
  },
  {
   "cell_type": "code",
   "execution_count": 4,
   "metadata": {},
   "outputs": [
    {
     "name": "stdout",
     "output_type": "stream",
     "text": [
      "(40000, 6, 1)\n",
      "(40000, 6, 10)\n"
     ]
    }
   ],
   "source": [
    "iniciar=True\n",
    "\n",
    "#Indicamos un valor de semilla para el generador de números aleatorios\n",
    "np.random.seed(7)\n",
    "#dataset = pandas.read_csv('entrenamiento1.csv', engine='python')\n",
    "dataset=np.array(range(40000))\n",
    "#print(dataset)\n",
    "datos=[]\n",
    "entrenamiento=[]\n",
    "salida=[]\n",
    "#for i in range(len(dataset)):\n",
    "#    datos.append([list(format(dataset['entrada'][i], '04')),list(format(dataset['salida'][i], '04'))])\n",
    "#    entrenamiento.append([caracteres[c] for c in datos[i][0]])\n",
    "#    salida.append([caracteres[c] for c in datos[i][1]])\n",
    "for i in range(len(dataset)):\n",
    "    datos.append([list(format(dataset[i], \"0\"+str(LONGITUD))),list(format(dataset[i]+1, \"0\"+str(LONGITUD)))])\n",
    "    entrenamiento.append([caracteres[c] for c in datos[i][0]])\n",
    "    salida.append([caracteres[c] for c in datos[i][1]])\n",
    "#print(datos)\n",
    "#print(entrenamiento)\n",
    "#print(salida)\n",
    "\n",
    "entrenamiento = np.array(entrenamiento)\n",
    "entrenamiento = np.reshape(entrenamiento, (len(dataset), LONGITUD,1))\n",
    "entrenamiento = entrenamiento/float(VOCABULARIO)\n",
    "#print(entrenamiento)\n",
    "salida = np.array(salida)\n",
    "salida = tf.keras.utils.to_categorical(salida)\n",
    "#salida = np.reshape(salida, (salida.shape[0], salida.shape[1],LONGITUD))\n",
    "#salida = salida/float(10)\n",
    "#salida=np.expand_dims(salida,2)\n",
    "#salida = np.reshape(salida, (salida.shape[0], salida.shape[1],1))\n",
    "print(entrenamiento.shape)\n",
    "print(salida.shape)\n",
    "#dataset=dataset.values\n",
    "#dataset=dataset.astype('float32')\n",
    "\n",
    "##normalizamos los datos. Normalizar es poner entre [0,1]\n",
    "#escaler = MinMaxScaler(feature_range=(0, 1))\n",
    "#datos = escaler.fit_transform(datos)\n",
    "#datos=np.array(datos)\n",
    "#datos=datos/float(10)\n",
    "#print(datos)\n",
    "\n",
    "##Separamos los datos \n",
    "#tamañoEntranamiento = int(len(dataset) * 0.67)\n",
    "#entrenamiento, test = dataset[0:tamañoEntranamiento,:], dataset[tamañoEntranamiento:len(dataset),:]\n",
    "#print(entrenamiento, test)\n",
    "#print(len(entrenamiento),len(test),len(dataset))"
   ]
  },
  {
   "cell_type": "code",
   "execution_count": 5,
   "metadata": {},
   "outputs": [],
   "source": [
    "def construirModelo(vocabulario):\n",
    "    model = tf.keras.Sequential()\n",
    "    #model.add(layers.Dense(256, input_shape = (4, 1)))\n",
    "    #model.add(layers.Dense(128, activation='relu'))\n",
    "    #model.add(layers.Dense(64, activation='relu'))\n",
    "    #model.add(layers.Dense(512, input_shape = (4, 1)))\n",
    "    #model.add(layers.Dense(256, activation='relu'))\n",
    "    #model.add(layers.Dense(128, activation='relu'))\n",
    "    #model.add(layers.Dense(64, activation='relu'))\n",
    "    model.add(layers.Dense(512, activation='relu',input_shape=(LONGITUD,1)))\n",
    "    model.add(layers.Dense(128, activation='relu'))\n",
    "    model.add(layers.Dense(64, activation='relu'))\n",
    "    model.add(layers.Dense(vocabulario, activation = 'softmax')) #'softmax', 'sigmoid', 'tanh', 'relu'\n",
    "    model.compile(loss = 'categorical_crossentropy', optimizer = 'adam', metrics=['accuracy'])\n",
    "    return model\n",
    "\n"
   ]
  },
  {
   "cell_type": "code",
   "execution_count": 7,
   "metadata": {
    "scrolled": false
   },
   "outputs": [
    {
     "name": "stdout",
     "output_type": "stream",
     "text": [
      "Model: \"sequential_1\"\n",
      "_________________________________________________________________\n",
      "Layer (type)                 Output Shape              Param #   \n",
      "=================================================================\n",
      "dense_4 (Dense)              (None, 6, 512)            1024      \n",
      "_________________________________________________________________\n",
      "dense_5 (Dense)              (None, 6, 128)            65664     \n",
      "_________________________________________________________________\n",
      "dense_6 (Dense)              (None, 6, 64)             8256      \n",
      "_________________________________________________________________\n",
      "dense_7 (Dense)              (None, 6, 10)             650       \n",
      "=================================================================\n",
      "Total params: 75,594\n",
      "Trainable params: 75,594\n",
      "Non-trainable params: 0\n",
      "_________________________________________________________________\n",
      "None\n",
      "Train on 38000 samples, validate on 2000 samples\n",
      "Epoch 1/10\n",
      "36992/38000 [============================>.] - ETA: 0s - loss: 0.9289 - accuracy: 0.6991\n",
      "Epoch 00001: loss improved from inf to 0.91702, saving model to modelos/pesosNN.hdf5\n",
      "38000/38000 [==============================] - 3s 87us/sample - loss: 0.9170 - accuracy: 0.7022 - val_loss: 0.5036 - val_accuracy: 0.8148\n",
      "Epoch 2/10\n",
      "37760/38000 [============================>.] - ETA: 0s - loss: 0.4728 - accuracy: 0.8141\n",
      "Epoch 00002: loss improved from 0.91702 to 0.47284, saving model to modelos/pesosNN.hdf5\n",
      "38000/38000 [==============================] - 2s 58us/sample - loss: 0.4728 - accuracy: 0.8141 - val_loss: 0.4960 - val_accuracy: 0.8148\n",
      "Epoch 3/10\n",
      "37120/38000 [============================>.] - ETA: 0s - loss: 0.4645 - accuracy: 0.8142\n",
      "Epoch 00003: loss improved from 0.47284 to 0.46437, saving model to modelos/pesosNN.hdf5\n",
      "38000/38000 [==============================] - 2s 55us/sample - loss: 0.4644 - accuracy: 0.8142 - val_loss: 0.4980 - val_accuracy: 0.8148\n",
      "Epoch 4/10\n",
      "37376/38000 [============================>.] - ETA: 0s - loss: 0.4620 - accuracy: 0.8147\n",
      "Epoch 00004: loss improved from 0.46437 to 0.46205, saving model to modelos/pesosNN.hdf5\n",
      "38000/38000 [==============================] - 2s 56us/sample - loss: 0.4621 - accuracy: 0.8147 - val_loss: 0.5008 - val_accuracy: 0.8148\n",
      "Epoch 5/10\n",
      "36992/38000 [============================>.] - ETA: 0s - loss: 0.4613 - accuracy: 0.8145\n",
      "Epoch 00005: loss improved from 0.46205 to 0.46133, saving model to modelos/pesosNN.hdf5\n",
      "38000/38000 [==============================] - 2s 55us/sample - loss: 0.4613 - accuracy: 0.8146 - val_loss: 0.4738 - val_accuracy: 0.8148\n",
      "Epoch 6/10\n",
      "37248/38000 [============================>.] - ETA: 0s - loss: 0.4602 - accuracy: 0.8148\n",
      "Epoch 00006: loss improved from 0.46133 to 0.46030, saving model to modelos/pesosNN.hdf5\n",
      "38000/38000 [==============================] - 2s 55us/sample - loss: 0.4603 - accuracy: 0.8148 - val_loss: 0.4930 - val_accuracy: 0.8148\n",
      "Epoch 7/10\n",
      "37760/38000 [============================>.] - ETA: 0s - loss: 0.4602 - accuracy: 0.8146\n",
      "Epoch 00007: loss improved from 0.46030 to 0.46022, saving model to modelos/pesosNN.hdf5\n",
      "38000/38000 [==============================] - 2s 56us/sample - loss: 0.4602 - accuracy: 0.8147 - val_loss: 0.4758 - val_accuracy: 0.8148\n",
      "Epoch 8/10\n",
      "37248/38000 [============================>.] - ETA: 0s - loss: 0.4612 - accuracy: 0.8143\n",
      "Epoch 00008: loss did not improve from 0.46022\n",
      "38000/38000 [==============================] - 2s 55us/sample - loss: 0.4612 - accuracy: 0.8143 - val_loss: 0.4993 - val_accuracy: 0.8148\n",
      "Epoch 9/10\n",
      "37504/38000 [============================>.] - ETA: 0s - loss: 0.4590 - accuracy: 0.8148\n",
      "Epoch 00009: loss improved from 0.46022 to 0.45897, saving model to modelos/pesosNN.hdf5\n",
      "38000/38000 [==============================] - 2s 56us/sample - loss: 0.4590 - accuracy: 0.8148 - val_loss: 0.4794 - val_accuracy: 0.8148\n",
      "Epoch 10/10\n",
      "36992/38000 [============================>.] - ETA: 0s - loss: 0.4599 - accuracy: 0.8143\n",
      "Epoch 00010: loss did not improve from 0.45897\n",
      "38000/38000 [==============================] - 2s 53us/sample - loss: 0.4599 - accuracy: 0.8144 - val_loss: 0.4926 - val_accuracy: 0.8148\n"
     ]
    }
   ],
   "source": [
    "model = construirModelo(VOCABULARIO)\n",
    "if(os.path.isfile(FICHERO_PESOS) and not iniciar):\n",
    "    model.load_weights(FICHERO_PESOS)\n",
    "iniciar=False\n",
    "checkpoint = tf.keras.callbacks.ModelCheckpoint(FICHERO_PESOS, monitor='loss', verbose=1, save_best_only=True, mode='min')\n",
    "callbacks_list = [checkpoint]\n",
    "print(model.summary())\n",
    "history = model.fit(entrenamiento, salida, validation_split=0.05, epochs = 10, batch_size = 128, callbacks = callbacks_list, shuffle=True).history\n",
    "\n"
   ]
  },
  {
   "cell_type": "code",
   "execution_count": 8,
   "metadata": {},
   "outputs": [
    {
     "data": {
      "text/plain": [
       "<matplotlib.legend.Legend at 0x1eae4f9fcc8>"
      ]
     },
     "execution_count": 8,
     "metadata": {},
     "output_type": "execute_result"
    },
    {
     "data": {
      "image/png": "[encoded data removed]",
      "text/plain": [
       "<Figure size 432x288 with 1 Axes>"
      ]
     },
     "metadata": {
      "needs_background": "light"
     },
     "output_type": "display_data"
    }
   ],
   "source": [
    "import matplotlib.pyplot as plt\n",
    "%matplotlib inline\n",
    "#import seaborn as sns\n",
    "#from pylab import rcParams\n",
    "#sns.set(style='whitegrid', palette='muted', font_scale=1.5)\n",
    "#rcPatams['figure.figsize']=12, 5\n",
    "\n",
    "plt.plot(history['accuracy'])\n",
    "plt.plot(history['val_accuracy'])\n",
    "plt.title('modelo')\n",
    "plt.ylabel('Precisión')\n",
    "plt.xlabel('Época')\n",
    "plt.legend(['Entrenamiento', 'test'],loc='upper left')"
   ]
  },
  {
   "cell_type": "code",
   "execution_count": 9,
   "metadata": {},
   "outputs": [],
   "source": [
    "\n",
    "\n",
    "model = construirModelo(VOCABULARIO)\n",
    "model.load_weights(FICHERO_PESOS)\n",
    "model.compile(loss = 'categorical_crossentropy', optimizer = 'adam')\n",
    "\n"
   ]
  },
  {
   "cell_type": "code",
   "execution_count": 10,
   "metadata": {},
   "outputs": [],
   "source": [
    "import ipywidgets as widgets\n",
    "#from IPython.display import clear_output\n",
    "textoOriginal = []\n",
    "prediccion = []\n",
    "def submit(datos):\n",
    "    global textoOriginal\n",
    "    global prediccion\n",
    "    \n",
    "    listaTextoCompleto = list(text.value)\n",
    "    \n",
    "    listaCaracteresSinProcesar = listaTextoCompleto[len(textoOriginal):]\n",
    "    textoProcesado = listaTextoCompleto[:len(textoOriginal)]    \n",
    "    textoCompleto = text.value    \n",
    "    #palabraSinProcesar.append(' ')\n",
    "    \n",
    "    textoAnterior = [caracteres[c] for c in listaTextoCompleto]\n",
    "    ultimoTexto = [caracteres[c] for c in listaCaracteresSinProcesar]\n",
    "    \n",
    "    numero=[]\n",
    "    \n",
    "    X=np.array([ultimoTexto])\n",
    "    X = np.reshape(X, (1, LONGITUD, 1))\n",
    "    siguienteNumero = model.predict(X/float(VOCABULARIO))\n",
    "    #print(siguienteNumero)\n",
    "    for i in range(len(siguienteNumero[0])):\n",
    "        index = np.argmax(siguienteNumero[0][i])    \n",
    "        numero.append(str(index))\n",
    "    #\n",
    "    pronostico.clear_output()\n",
    "    with pronostico:\n",
    "        print( ''.join(numero))\n",
    "    \n",
    "    #display(text)\n",
    "    #text.focus_set()"
   ]
  },
  {
   "cell_type": "code",
   "execution_count": 11,
   "metadata": {},
   "outputs": [
    {
     "data": {
      "application/vnd.jupyter.widget-view+json": {
       "model_id": "ffc215d1ff714eac8e15ebe2cb012bd9",
       "version_major": 2,
       "version_minor": 0
      },
      "text/plain": [
       "Text(value='000006')"
      ]
     },
     "metadata": {},
     "output_type": "display_data"
    },
    {
     "data": {
      "application/vnd.jupyter.widget-view+json": {
       "model_id": "4941c113b22845f4b49195e649fc31f3",
       "version_major": 2,
       "version_minor": 0
      },
      "text/plain": [
       "Output()"
      ]
     },
     "metadata": {},
     "output_type": "display_data"
    }
   ],
   "source": [
    "pronostico=widgets.Output()\n",
    "\n",
    "text = widgets.Text()\n",
    "text.value=\"000006\"\n",
    "display(text,pronostico)\n",
    "submit([])\n",
    "\n",
    "text.on_submit(submit)"
   ]
  }
 ],
 "metadata": {
  "kernelspec": {
   "display_name": "Python 3",
   "language": "python",
   "name": "python3"
  },
  "language_info": {
   "codemirror_mode": {
    "name": "ipython",
    "version": 3
   },
   "file_extension": ".py",
   "mimetype": "text/x-python",
   "name": "python",
   "nbconvert_exporter": "python",
   "pygments_lexer": "ipython3",
   "version": "3.7.4"
  }
 },
 "nbformat": 4,
 "nbformat_minor": 2
}
