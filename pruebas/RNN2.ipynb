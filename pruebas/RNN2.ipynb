{
 "cells": [
  {
   "cell_type": "code",
   "execution_count": 1,
   "metadata": {},
   "outputs": [],
   "source": [
    "from __future__ import absolute_import, division, print_function, unicode_literals\n",
    "\n",
    "import collections\n",
    "import matplotlib.pyplot as plt\n",
    "import numpy as np\n",
    "\n",
    "import os\n",
    "\n",
    "#import pandas\n",
    "#from sklearn.preprocessing import MinMaxScaler\n",
    "#from sklearn.metrics import mean_squared_error\n",
    "\n",
    "\n",
    "\n",
    "import tensorflow as tf\n",
    "\n",
    "from tensorflow.keras import layers"
   ]
  },
  {
   "cell_type": "code",
   "execution_count": 2,
   "metadata": {},
   "outputs": [],
   "source": [
    "caracteres={'0':0,'1':1,'2':2,'3':3,'4':4,'5':5,'6':6,'7':7,'8':8,'9':9}"
   ]
  },
  {
   "cell_type": "code",
   "execution_count": 20,
   "metadata": {},
   "outputs": [],
   "source": [
    "VOCABULARIO=len(caracteres)\n",
    "LONGITUD=6\n",
    "FICHERO_PESOS=\"modelos/pesosRNN2.hdf5\""
   ]
  },
  {
   "cell_type": "code",
   "execution_count": 90,
   "metadata": {},
   "outputs": [
    {
     "name": "stdout",
     "output_type": "stream",
     "text": [
      "(59994, 6, 1)\n",
      "(59994, 10)\n"
     ]
    }
   ],
   "source": [
    "#iniciar=True\n",
    "\n",
    "#Indicamos un valor de semilla para el generador de números aleatorios\n",
    "np.random.seed(7)\n",
    "#dataset = pandas.read_csv('entrenamiento1.csv', engine='python')\n",
    "dataset=np.array(range(10000))\n",
    "#print(dataset)\n",
    "#datos=[]\n",
    "entrenamiento=[]\n",
    "salida=[]\n",
    "\n",
    "textoEntrada=[];\n",
    "\n",
    "for i in range(len(dataset)):\n",
    "    textoEntrada+=(caracteres[c] for c in list(format(dataset[i], \"0\"+str(LONGITUD))))\n",
    "#print (textoEntrada)\n",
    "for i in range(len(textoEntrada)-LONGITUD):\n",
    "    entrenamiento.append(textoEntrada[i:i+LONGITUD])\n",
    "    salida.append(textoEntrada[i+LONGITUD])\n",
    "#print(datos)\n",
    "#print(entrenamiento)\n",
    "#print(salida)\n",
    "\n",
    "entrenamiento = np.array(entrenamiento)\n",
    "#print(entrenamiento.shape)\n",
    "entrenamiento = np.reshape(entrenamiento, (entrenamiento.shape[0], entrenamiento.shape[1], 1))\n",
    "entrenamiento = entrenamiento/float(VOCABULARIO)\n",
    "\n",
    "salida = np.array(salida)\n",
    "salida = tf.keras.utils.to_categorical(salida)\n",
    "print(entrenamiento.shape)\n",
    "print(salida.shape)\n",
    "\n",
    "#dataset=dataset.values\n",
    "#dataset=dataset.astype('float32')\n",
    "\n",
    "##normalizamos los datos. Normalizar es poner entre [0,1]\n",
    "#escaler = MinMaxScaler(feature_range=(0, 1))\n",
    "#datos = escaler.fit_transform(datos)\n",
    "#datos=np.array(datos)\n",
    "#datos=datos/float(10)\n",
    "#print(datos)\n",
    "\n",
    "##Separamos los datos \n",
    "#tamañoEntranamiento = int(len(dataset) * 0.67)\n",
    "#entrenamiento, test = dataset[0:tamañoEntranamiento,:], dataset[tamañoEntranamiento:len(dataset),:]\n",
    "#print(entrenamiento, test)\n",
    "#print(len(entrenamiento),len(test),len(dataset))"
   ]
  },
  {
   "cell_type": "code",
   "execution_count": 32,
   "metadata": {},
   "outputs": [],
   "source": [
    "def construirModelo(vocabulario=VOCABULARIO, longitud=LONGITUD):\n",
    "    model = tf.keras.Sequential()\n",
    "    model.add(layers.LSTM(256, input_shape = (longitud, 1), return_sequences = True))\n",
    "    model.add(layers.Dropout(0.2))\n",
    "    model.add(layers.LSTM(256))\n",
    "    model.add(layers.Dropout(0.2))\n",
    "    model.add(layers.Dense(vocabulario, activation = 'softmax'))\n",
    "    model.compile(loss = 'categorical_crossentropy', optimizer = 'adam', metrics=['accuracy'])\n",
    "    \n",
    "    return model\n",
    "\n"
   ]
  },
  {
   "cell_type": "code",
   "execution_count": null,
   "metadata": {
    "scrolled": false
   },
   "outputs": [
    {
     "name": "stdout",
     "output_type": "stream",
     "text": [
      "Train on 56994 samples, validate on 3000 samples\n",
      "Epoch 1/10\n",
      "26112/56994 [============>.................] - ETA: 29s - loss: 0.3016 - accuracy: 0.8917"
     ]
    }
   ],
   "source": [
    "model = construirModelo(VOCABULARIO)\n",
    "if(os.path.isfile(FICHERO_PESOS) and not iniciar):\n",
    "    model.load_weights(FICHERO_PESOS)\n",
    "iniciar=False\n",
    "\n",
    "checkpoint = tf.keras.callbacks.ModelCheckpoint(FICHERO_PESOS, monitor='loss', verbose=1, save_best_only=True, mode='min')\n",
    "callbacks_list = [checkpoint]\n",
    "\n",
    "history = model.fit(entrenamiento, salida, validation_split=0.05, epochs = 10, batch_size = 128, callbacks = callbacks_list, shuffle=True).history\n",
    "\n"
   ]
  },
  {
   "cell_type": "code",
   "execution_count": 84,
   "metadata": {},
   "outputs": [
    {
     "name": "stdout",
     "output_type": "stream",
     "text": [
      "Model: \"sequential_11\"\n",
      "_________________________________________________________________\n",
      "Layer (type)                 Output Shape              Param #   \n",
      "=================================================================\n",
      "lstm_13 (LSTM)               (None, 6, 256)            264192    \n",
      "_________________________________________________________________\n",
      "dropout_4 (Dropout)          (None, 6, 256)            0         \n",
      "_________________________________________________________________\n",
      "lstm_14 (LSTM)               (None, 256)               525312    \n",
      "_________________________________________________________________\n",
      "dropout_5 (Dropout)          (None, 256)               0         \n",
      "_________________________________________________________________\n",
      "dense_10 (Dense)             (None, 10)                2570      \n",
      "=================================================================\n",
      "Total params: 792,074\n",
      "Trainable params: 792,074\n",
      "Non-trainable params: 0\n",
      "_________________________________________________________________\n",
      "None\n"
     ]
    },
    {
     "data": {
      "text/plain": [
       "<matplotlib.legend.Legend at 0x2e3f1d43f88>"
      ]
     },
     "execution_count": 84,
     "metadata": {},
     "output_type": "execute_result"
    },
    {
     "data": {
      "image/png": "[encoded data removed]",
      "text/plain": [
       "<Figure size 432x288 with 1 Axes>"
      ]
     },
     "metadata": {
      "needs_background": "light"
     },
     "output_type": "display_data"
    }
   ],
   "source": [
    "import matplotlib.pyplot as plt\n",
    "%matplotlib inline\n",
    "#import seaborn as sns\n",
    "#from pylab import rcParams\n",
    "#sns.set(style='whitegrid', palette='muted', font_scale=1.5)\n",
    "#rcPatams['figure.figsize']=12, 5\n",
    "print(model.summary())\n",
    "plt.plot(history['accuracy'])\n",
    "plt.plot(history['val_accuracy'])\n",
    "plt.title('modelo')\n",
    "plt.ylabel('Precisión')\n",
    "plt.xlabel('Época')\n",
    "plt.legend(['Entrenamiento', 'test'],loc='upper left')"
   ]
  },
  {
   "cell_type": "code",
   "execution_count": 87,
   "metadata": {},
   "outputs": [],
   "source": [
    "model = construirModelo(VOCABULARIO)\n",
    "model.load_weights(FICHERO_PESOS)\n",
    "model.compile(loss = 'categorical_crossentropy', optimizer = 'adam')\n",
    "\n"
   ]
  },
  {
   "cell_type": "code",
   "execution_count": 81,
   "metadata": {},
   "outputs": [],
   "source": [
    "import ipywidgets as widgets\n",
    "#from IPython.display import clear_output\n",
    "textoOriginal = []\n",
    "prediccion = []\n",
    "def submit(datos):\n",
    "    global textoOriginal\n",
    "    global prediccion\n",
    "    \n",
    "    listaTextoCompleto = list(text.value)\n",
    "    if(len(listaTextoCompleto)<LONGITUD):\n",
    "        listaCaracteresSinProcesar = ['0' for i in range(LONGITUD-len(listaTextoCompleto))]+listaTextoCompleto[:len(listaTextoCompleto)]\n",
    "    else:\n",
    "        indice=len(listaTextoCompleto)-LONGITUD\n",
    "        listaCaracteresSinProcesar = listaTextoCompleto[indice:indice+LONGITUD]\n",
    "    \n",
    "    textoProcesado = listaTextoCompleto[:len(textoOriginal)]    \n",
    "    textoCompleto = text.value    \n",
    "    #palabraSinProcesar.append(' ')\n",
    "    \n",
    "    textoAnterior = [caracteres[c] for c in textoProcesado]\n",
    "    ultimoTexto = [caracteres[c] for c in listaCaracteresSinProcesar]\n",
    "    \n",
    "    #Alimentamos la red con toda la entrada anterior\n",
    "    #TODO\n",
    "    \n",
    "    \n",
    "    numero=[]\n",
    "    for i in range(LONGITUD):\n",
    "        #X=np.array([ultimoTexto])\n",
    "        X = np.reshape(ultimoTexto, (1, LONGITUD, 1))\n",
    "        siguienteNumero = model.predict((X/float(VOCABULARIO)))\n",
    "        #print(siguienteNumero)\n",
    "        siguienteNumero=np.argmax(siguienteNumero)\n",
    "        ultimoTexto.append(siguienteNumero)\n",
    "        ultimoTexto = ultimoTexto[1:]\n",
    "        numero.append(str(siguienteNumero))\n",
    "        \n",
    "    #\n",
    "    pronostico.clear_output()\n",
    "    with pronostico:\n",
    "        print( ''.join(numero))\n",
    "    \n",
    "    #display(text)\n",
    "    #text.focus_set()"
   ]
  },
  {
   "cell_type": "code",
   "execution_count": 89,
   "metadata": {},
   "outputs": [
    {
     "data": {
      "application/vnd.jupyter.widget-view+json": {
       "model_id": "809cf8367ba94f439d4b2065ed1b0a28",
       "version_major": 2,
       "version_minor": 0
      },
      "text/plain": [
       "Text(value='000006')"
      ]
     },
     "metadata": {},
     "output_type": "display_data"
    },
    {
     "data": {
      "application/vnd.jupyter.widget-view+json": {
       "model_id": "b295f8dba2dc43238a49fa023889030c",
       "version_major": 2,
       "version_minor": 0
      },
      "text/plain": [
       "Output()"
      ]
     },
     "metadata": {},
     "output_type": "display_data"
    }
   ],
   "source": [
    "pronostico=widgets.Output()\n",
    "\n",
    "text = widgets.Text(continuous_update=True)\n",
    "text.value=\"000006\"\n",
    "display(text,pronostico)\n",
    "submit([])\n",
    "text.on_submit(submit)\n",
    "text.observe(submit)\n"
   ]
  }
 ],
 "metadata": {
  "kernelspec": {
   "display_name": "Python 3",
   "language": "python",
   "name": "python3"
  },
  "language_info": {
   "codemirror_mode": {
    "name": "ipython",
    "version": 3
   },
   "file_extension": ".py",
   "mimetype": "text/x-python",
   "name": "python",
   "nbconvert_exporter": "python",
   "pygments_lexer": "ipython3",
   "version": "3.7.5"
  }
 },
 "nbformat": 4,
 "nbformat_minor": 2
}
