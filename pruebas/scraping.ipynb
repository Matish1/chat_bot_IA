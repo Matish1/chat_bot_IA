{
 "nbformat": 4,
 "nbformat_minor": 2,
 "metadata": {
  "language_info": {
   "name": "python",
   "codemirror_mode": {
    "name": "ipython",
    "version": 3
   },
   "version": "3.7.5-final"
  },
  "orig_nbformat": 2,
  "file_extension": ".py",
  "mimetype": "text/x-python",
  "name": "python",
  "npconvert_exporter": "python",
  "pygments_lexer": "ipython3",
  "version": 3,
  "kernelspec": {
   "name": "python37464bitbaseconda8741b7ef691c4a9682c1a3bcf9f0d33a",
   "display_name": "Python 3.7.4 64-bit ('base': conda)"
  }
 },
 "cells": [
  {
   "cell_type": "code",
   "execution_count": 1,
   "metadata": {},
   "outputs": [],
   "source": [
    "import requests\n",
    "from lxml import html"
   ]
  },
  {
   "cell_type": "code",
   "execution_count": 2,
   "metadata": {},
   "outputs": [],
   "source": [
    "rss=\"https://feeds.elpais.com/mrss-s/pages/ep/site/elpais.com/portada\"\n",
    "urls=[\"https://elpais.com/\",\"https://elpais.com/tecnologia/\",\"https://elpais.com/ciencia/\",\"https://elpais.com/internacional/\"]"
   ]
  },
  {
   "cell_type": "code",
   "execution_count": 3,
   "metadata": {},
   "outputs": [],
   "source": [
    "def scrapArticuloPais(idx, noticias):\n",
    "    print(idx)\n",
    "    for i,urlNoticia in enumerate(noticias):\n",
    "        #print(items[i].text)\n",
    "        noticia=html.fromstring(requests.get(urlNoticia).content)\n",
    "        \n",
    "        tituloNoticia=noticia.xpath(\"//h1[@id='articulo-titulo']\")\n",
    "        if(len(tituloNoticia)==0):\n",
    "            tituloNoticia=noticia.xpath(\"//article//h1\")\n",
    "        #print(tituloNoticia)\n",
    "        fichero=\"texto \"+str(idx)+\"-\"+str(i)+\".txt\"\n",
    "        titulo=\"\"\n",
    "        f = open(\"textos\\\\\"+fichero, \"w\", encoding=\"utf8\")\n",
    "        if(len(tituloNoticia)>0):\n",
    "            #print(tituloNoticia[0].text)\n",
    "            titulo=tituloNoticia[0].text\n",
    "            #fichero=titulo+\".txt\"\n",
    "        f.write(titulo+\"\\n\")\n",
    "        entradillaNoticia=noticia.xpath(\"//h2[@class='articulo-subtitulo']\")\n",
    "        if(len(entradillaNoticia)==0):\n",
    "            entradillaNoticia=noticia.xpath(\"//article//h2\")\n",
    "        if(len(entradillaNoticia)>0):\n",
    "            #print(entradillaNoticia[0].text)\n",
    "            f.write(entradillaNoticia[0].text+\"\\n\")\n",
    "        cuerposNoticia=noticia.xpath(\"//div[@id='cuerpo_noticia']/p\")\n",
    "        if(len(cuerposNoticia)==0):\n",
    "            cuerposNoticia=noticia.xpath(\"//article//section[contains(@class,'article_body')]\")\n",
    "        print(cuerposNoticia)\n",
    "        for i,cuerpo in enumerate(cuerposNoticia):\n",
    "            if i>0:\n",
    "                f.write(\"\\n\")\n",
    "            for contenido in cuerpo.itertext():\n",
    "                #print(cuerpo)\n",
    "                f.write(contenido)\n",
    "            \n",
    "        #print(\"--------------------\")\n",
    "        f.close()\n",
    "    print(\"Terminado\",idx)\n",
    "    "
   ]
  },
  {
   "cell_type": "code",
   "execution_count": 4,
   "metadata": {},
   "outputs": [
    {
     "output_type": "stream",
     "name": "stdout",
     "text": "0\n[<Element section at 0x2f6b8fba7c8>]\n[<Element section at 0x2f6ba1e9e08>]\n[<Element section at 0x2f6ba2229a8>]\n[<Element section at 0x2f6b8adf2c8>]\n[<Element section at 0x2f6b8fba778>]\n[<Element p at 0x2f6ba1c68b8>, <Element p at 0x2f6ba1d6368>, <Element p at 0x2f6ba1d84f8>, <Element p at 0x2f6ba1d7b88>, <Element p at 0x2f6ba1d7d18>, <Element p at 0x2f6ba1d7e08>, <Element p at 0x2f6ba1f3098>, <Element p at 0x2f6ba1f3228>, <Element p at 0x2f6ba1f3048>, <Element p at 0x2f6ba1b3368>, <Element p at 0x2f6ba1b31d8>, <Element p at 0x2f6ba1b39a8>, <Element p at 0x2f6ba2285e8>, <Element p at 0x2f6ba2281d8>]\n[<Element section at 0x2f6ba1c68b8>]\n[<Element section at 0x2f6ba222a48>]\n[<Element section at 0x2f6ba1b3638>]\n[<Element section at 0x2f6b8fba778>]\n[<Element section at 0x2f6b8fba7c8>]\n[<Element section at 0x2f6ba1c68b8>]\n[<Element section at 0x2f6ba1d6368>]\n[<Element section at 0x2f6ba1f3048>]\n[<Element section at 0x2f6b8fba7c8>]\n[<Element section at 0x2f6ba1f3098>]\n[<Element section at 0x2f6ba1eda48>]\n[<Element section at 0x2f6ba1c68b8>]\n[<Element section at 0x2f6ba2166d8>]\n[<Element p at 0x2f6ba1d6368>, <Element p at 0x2f6ba1d67c8>, <Element p at 0x2f6ba216868>, <Element p at 0x2f6ba2164a8>, <Element p at 0x2f6ba216b88>, <Element p at 0x2f6ba2164f8>, <Element p at 0x2f6ba216ea8>, <Element p at 0x2f6ba216318>, <Element p at 0x2f6ba216d68>, <Element p at 0x2f6ba2163b8>, <Element p at 0x2f6ba216b38>, <Element p at 0x2f6ba216a48>, <Element p at 0x2f6ba2161d8>, <Element p at 0x2f6ba216188>, <Element p at 0x2f6ba216818>, <Element p at 0x2f6ba216368>, <Element p at 0x2f6ba216408>, <Element p at 0x2f6ba216e08>, <Element p at 0x2f6ba2167c8>, <Element p at 0x2f6ba216db8>, <Element p at 0x2f6ba216d18>, <Element p at 0x2f6ba2169a8>, <Element p at 0x2f6ba216278>, <Element p at 0x2f6ba2169f8>, <Element p at 0x2f6ba216e58>]\n[<Element section at 0x2f6ba1d6368>]\n[<Element section at 0x2f6ba1c68b8>]\n[<Element section at 0x2f6ba1b39a8>]\n[<Element section at 0x2f6ba1d8408>]\n[<Element section at 0x2f6b8adf2c8>]\n[<Element section at 0x2f6ba1c68b8>]\n[<Element p at 0x2f6b8fba7c8>, <Element p at 0x2f6ba1d67c8>, <Element p at 0x2f6ba1dd9a8>, <Element p at 0x2f6ba1dd4a8>, <Element p at 0x2f6ba1dddb8>, <Element p at 0x2f6ba1dd908>]\n[<Element section at 0x2f6b8fba7c8>]\n"
    },
    {
     "output_type": "error",
     "ename": "TypeError",
     "evalue": "unsupported operand type(s) for +: 'NoneType' and 'str'",
     "traceback": [
      "\u001b[1;31m---------------------------------------------------------------------------\u001b[0m",
      "\u001b[1;31mTypeError\u001b[0m                                 Traceback (most recent call last)",
      "\u001b[1;32m<ipython-input-4-38121f6449ee>\u001b[0m in \u001b[0;36m<module>\u001b[1;34m\u001b[0m\n\u001b[0;32m     13\u001b[0m                 \u001b[1;31m#print(href)\u001b[0m\u001b[1;33m\u001b[0m\u001b[1;33m\u001b[0m\u001b[1;33m\u001b[0m\u001b[0m\n\u001b[0;32m     14\u001b[0m                 \u001b[0mnoticias\u001b[0m\u001b[1;33m.\u001b[0m\u001b[0mappend\u001b[0m\u001b[1;33m(\u001b[0m\u001b[0murl\u001b[0m\u001b[1;33m+\u001b[0m\u001b[0mhref\u001b[0m\u001b[1;33m)\u001b[0m\u001b[1;33m\u001b[0m\u001b[1;33m\u001b[0m\u001b[0m\n\u001b[1;32m---> 15\u001b[1;33m     \u001b[0mscrapArticuloPais\u001b[0m\u001b[1;33m(\u001b[0m\u001b[0midx\u001b[0m\u001b[1;33m,\u001b[0m \u001b[0mnoticias\u001b[0m\u001b[1;33m)\u001b[0m\u001b[1;33m\u001b[0m\u001b[1;33m\u001b[0m\u001b[0m\n\u001b[0m\u001b[0;32m     16\u001b[0m     \u001b[0midx\u001b[0m\u001b[1;33m=\u001b[0m\u001b[0midx\u001b[0m\u001b[1;33m+\u001b[0m\u001b[1;36m1\u001b[0m\u001b[1;33m\u001b[0m\u001b[1;33m\u001b[0m\u001b[0m\n\u001b[0;32m     17\u001b[0m \u001b[1;31m##print(noticias)\u001b[0m\u001b[1;33m\u001b[0m\u001b[1;33m\u001b[0m\u001b[1;33m\u001b[0m\u001b[0m\n",
      "\u001b[1;32m<ipython-input-3-7383e3fb2dd8>\u001b[0m in \u001b[0;36mscrapArticuloPais\u001b[1;34m(idx, noticias)\u001b[0m\n\u001b[0;32m     22\u001b[0m         \u001b[1;32mif\u001b[0m\u001b[1;33m(\u001b[0m\u001b[0mlen\u001b[0m\u001b[1;33m(\u001b[0m\u001b[0mentradillaNoticia\u001b[0m\u001b[1;33m)\u001b[0m\u001b[1;33m>\u001b[0m\u001b[1;36m0\u001b[0m\u001b[1;33m)\u001b[0m\u001b[1;33m:\u001b[0m\u001b[1;33m\u001b[0m\u001b[1;33m\u001b[0m\u001b[0m\n\u001b[0;32m     23\u001b[0m             \u001b[1;31m#print(entradillaNoticia[0].text)\u001b[0m\u001b[1;33m\u001b[0m\u001b[1;33m\u001b[0m\u001b[1;33m\u001b[0m\u001b[0m\n\u001b[1;32m---> 24\u001b[1;33m             \u001b[0mf\u001b[0m\u001b[1;33m.\u001b[0m\u001b[0mwrite\u001b[0m\u001b[1;33m(\u001b[0m\u001b[0mentradillaNoticia\u001b[0m\u001b[1;33m[\u001b[0m\u001b[1;36m0\u001b[0m\u001b[1;33m]\u001b[0m\u001b[1;33m.\u001b[0m\u001b[0mtext\u001b[0m\u001b[1;33m+\u001b[0m\u001b[1;34m\"\\n\"\u001b[0m\u001b[1;33m)\u001b[0m\u001b[1;33m\u001b[0m\u001b[1;33m\u001b[0m\u001b[0m\n\u001b[0m\u001b[0;32m     25\u001b[0m         \u001b[0mcuerposNoticia\u001b[0m\u001b[1;33m=\u001b[0m\u001b[0mnoticia\u001b[0m\u001b[1;33m.\u001b[0m\u001b[0mxpath\u001b[0m\u001b[1;33m(\u001b[0m\u001b[1;34m\"//div[@id='cuerpo_noticia']/p\"\u001b[0m\u001b[1;33m)\u001b[0m\u001b[1;33m\u001b[0m\u001b[1;33m\u001b[0m\u001b[0m\n\u001b[0;32m     26\u001b[0m         \u001b[1;32mif\u001b[0m\u001b[1;33m(\u001b[0m\u001b[0mlen\u001b[0m\u001b[1;33m(\u001b[0m\u001b[0mcuerposNoticia\u001b[0m\u001b[1;33m)\u001b[0m\u001b[1;33m==\u001b[0m\u001b[1;36m0\u001b[0m\u001b[1;33m)\u001b[0m\u001b[1;33m:\u001b[0m\u001b[1;33m\u001b[0m\u001b[1;33m\u001b[0m\u001b[0m\n",
      "\u001b[1;31mTypeError\u001b[0m: unsupported operand type(s) for +: 'NoneType' and 'str'"
     ]
    }
   ],
   "source": [
    "#noticias=html.fromstring(requests.get(rss).content)\n",
    "#items=noticias.xpath(\"//item/guid\")\n",
    "idx=0\n",
    "for url in urls:\n",
    "    pagina=html.fromstring(requests.get(url).content)\n",
    "    articulos=pagina.xpath(\"//article\")\n",
    "    noticias=[]\n",
    "    for articulo in articulos:\n",
    "        enlace=articulo.findall(\"h2/a\")\n",
    "        if(len(enlace)>0):\n",
    "            href=enlace[0].attrib.get(\"href\")\n",
    "            if(href[0]==\"/\"):\n",
    "                #print(href)\n",
    "                noticias.append(url+href)\n",
    "    scrapArticuloPais(idx, noticias)\n",
    "    idx=idx+1\n",
    "##print(noticias)"
   ]
  },
  {
   "cell_type": "code",
   "execution_count": 4,
   "metadata": {},
   "outputs": [
    {
     "output_type": "stream",
     "name": "stdout",
     "text": "[]\n"
    }
   ],
   "source": [
    "pagina=html.fromstring(requests.get(\"https://www.youtube.com/watch?v=ZWRxEewXjuo\").content)\n",
    "h2=pagina.xpath(\"//h2[@id='count']\")\n",
    "print(h2)\n",
    "\n",
    ""
   ]
  }
 ]
}