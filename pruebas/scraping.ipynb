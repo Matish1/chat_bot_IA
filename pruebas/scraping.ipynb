{
 "nbformat": 4,
 "nbformat_minor": 2,
 "metadata": {
  "language_info": {
   "name": "python",
   "codemirror_mode": {
    "name": "ipython",
    "version": 3
   },
   "version": "3.7.4-final"
  },
  "orig_nbformat": 2,
  "file_extension": ".py",
  "mimetype": "text/x-python",
  "name": "python",
  "npconvert_exporter": "python",
  "pygments_lexer": "ipython3",
  "version": 3,
  "kernelspec": {
   "name": "python37464bitbaseconda8741b7ef691c4a9682c1a3bcf9f0d33a",
   "display_name": "Python 3.7.4 64-bit ('base': conda)"
  }
 },
 "cells": [
  {
   "cell_type": "code",
   "execution_count": 100,
   "metadata": {},
   "outputs": [],
   "source": [
    "import requests\n",
    "from lxml import html"
   ]
  },
  {
   "cell_type": "code",
   "execution_count": 118,
   "metadata": {},
   "outputs": [],
   "source": [
    "rss=\"https://feeds.elpais.com/mrss-s/pages/ep/site/elpais.com/portada\"\n",
    "urls=[\"https://elpais.com/\",\"https://elpais.com/tecnologia/\"]"
   ]
  },
  {
   "cell_type": "code",
   "execution_count": 126,
   "metadata": {},
   "outputs": [],
   "source": [
    "def scapArticuloPais(idx, noticias):\n",
    "    print(idx)\n",
    "    for i,urlNoticia in enumerate(noticias):\n",
    "        #print(items[i].text)\n",
    "        noticia=html.fromstring(requests.get(urlNoticia).content)\n",
    "        #print(noticia)\n",
    "        tituloNoticia=noticia.xpath(\"//h1[@id='articulo-titulo']\")\n",
    "        fichero=\"texto \"+str(idx)+\"-\"+str(i)+\".txt\"\n",
    "        titulo=\"\"\n",
    "        f = open(\"textos\\\\\"+fichero, \"w\")\n",
    "        if(len(tituloNoticia)>0):\n",
    "            #print(tituloNoticia[0].text)\n",
    "            titulo=tituloNoticia[0].text\n",
    "            #fichero=titulo+\".txt\"\n",
    "        f.write(titulo.encode()+\"\\n\")\n",
    "        entradillaNoticia=noticia.xpath(\"//h2[@class='articulo-subtitulo']\")\n",
    "        if(len(entradillaNoticia)>0):\n",
    "            #print(entradillaNoticia[0].text)\n",
    "            f.write(entradillaNoticia[0].text.encode()+\"\\n\")\n",
    "        cuerposNoticia=noticia.xpath(\"//div[@id='cuerpo_noticia']/p\")\n",
    "        for i,cuerpo in enumerate(cuerposNoticia):\n",
    "            if i>0:\n",
    "                f.write(\"\\n\")\n",
    "            for contenido in cuerpo.itertext():\n",
    "                #print(cuerpo)\n",
    "                f.write(contenido.encode())\n",
    "            \n",
    "        #print(\"--------------------\")\n",
    "        f.close()\n",
    "    "
   ]
  },
  {
   "cell_type": "code",
   "execution_count": 128,
   "metadata": {},
   "outputs": [
    {
     "name": "stdout",
     "output_type": "stream",
     "text": "0\n"
    },
    {
     "ename": "TypeError",
     "evalue": "can't concat str to bytes",
     "output_type": "error",
     "traceback": [
      "\u001b[1;31m---------------------------------------------------------------------------\u001b[0m",
      "\u001b[1;31mTypeError\u001b[0m                                 Traceback (most recent call last)",
      "\u001b[1;32m<ipython-input-128-e22322387079>\u001b[0m in \u001b[0;36m<module>\u001b[1;34m\u001b[0m\n\u001b[0;32m     13\u001b[0m                 \u001b[1;31m#print(href)\u001b[0m\u001b[1;33m\u001b[0m\u001b[1;33m\u001b[0m\u001b[1;33m\u001b[0m\u001b[0m\n\u001b[0;32m     14\u001b[0m                 \u001b[0mnoticias\u001b[0m\u001b[1;33m.\u001b[0m\u001b[0mappend\u001b[0m\u001b[1;33m(\u001b[0m\u001b[0murl\u001b[0m\u001b[1;33m+\u001b[0m\u001b[0mhref\u001b[0m\u001b[1;33m)\u001b[0m\u001b[1;33m\u001b[0m\u001b[1;33m\u001b[0m\u001b[0m\n\u001b[1;32m---> 15\u001b[1;33m     \u001b[0mscapArticuloPais\u001b[0m\u001b[1;33m(\u001b[0m\u001b[0midx\u001b[0m\u001b[1;33m,\u001b[0m \u001b[0mnoticias\u001b[0m\u001b[1;33m)\u001b[0m\u001b[1;33m\u001b[0m\u001b[1;33m\u001b[0m\u001b[0m\n\u001b[0m\u001b[0;32m     16\u001b[0m     \u001b[0midx\u001b[0m\u001b[1;33m=\u001b[0m\u001b[0midx\u001b[0m\u001b[1;33m+\u001b[0m\u001b[1;36m1\u001b[0m\u001b[1;33m\u001b[0m\u001b[1;33m\u001b[0m\u001b[0m\n\u001b[0;32m     17\u001b[0m \u001b[1;31m##print(noticias)\u001b[0m\u001b[1;33m\u001b[0m\u001b[1;33m\u001b[0m\u001b[1;33m\u001b[0m\u001b[0m\n",
      "\u001b[1;32m<ipython-input-126-39db7fb59329>\u001b[0m in \u001b[0;36mscapArticuloPais\u001b[1;34m(idx, noticias)\u001b[0m\n\u001b[0;32m     13\u001b[0m             \u001b[0mtitulo\u001b[0m\u001b[1;33m=\u001b[0m\u001b[0mtituloNoticia\u001b[0m\u001b[1;33m[\u001b[0m\u001b[1;36m0\u001b[0m\u001b[1;33m]\u001b[0m\u001b[1;33m.\u001b[0m\u001b[0mtext\u001b[0m\u001b[1;33m\u001b[0m\u001b[1;33m\u001b[0m\u001b[0m\n\u001b[0;32m     14\u001b[0m             \u001b[1;31m#fichero=titulo+\".txt\"\u001b[0m\u001b[1;33m\u001b[0m\u001b[1;33m\u001b[0m\u001b[1;33m\u001b[0m\u001b[0m\n\u001b[1;32m---> 15\u001b[1;33m         \u001b[0mf\u001b[0m\u001b[1;33m.\u001b[0m\u001b[0mwrite\u001b[0m\u001b[1;33m(\u001b[0m\u001b[0mtitulo\u001b[0m\u001b[1;33m.\u001b[0m\u001b[0mencode\u001b[0m\u001b[1;33m(\u001b[0m\u001b[1;33m)\u001b[0m\u001b[1;33m+\u001b[0m\u001b[1;34m\"\\n\"\u001b[0m\u001b[1;33m)\u001b[0m\u001b[1;33m\u001b[0m\u001b[1;33m\u001b[0m\u001b[0m\n\u001b[0m\u001b[0;32m     16\u001b[0m         \u001b[0mentradillaNoticia\u001b[0m\u001b[1;33m=\u001b[0m\u001b[0mnoticia\u001b[0m\u001b[1;33m.\u001b[0m\u001b[0mxpath\u001b[0m\u001b[1;33m(\u001b[0m\u001b[1;34m\"//h2[@class='articulo-subtitulo']\"\u001b[0m\u001b[1;33m)\u001b[0m\u001b[1;33m\u001b[0m\u001b[1;33m\u001b[0m\u001b[0m\n\u001b[0;32m     17\u001b[0m         \u001b[1;32mif\u001b[0m\u001b[1;33m(\u001b[0m\u001b[0mlen\u001b[0m\u001b[1;33m(\u001b[0m\u001b[0mentradillaNoticia\u001b[0m\u001b[1;33m)\u001b[0m\u001b[1;33m>\u001b[0m\u001b[1;36m0\u001b[0m\u001b[1;33m)\u001b[0m\u001b[1;33m:\u001b[0m\u001b[1;33m\u001b[0m\u001b[1;33m\u001b[0m\u001b[0m\n",
      "\u001b[1;31mTypeError\u001b[0m: can't concat str to bytes"
     ]
    }
   ],
   "source": [
    "#noticias=html.fromstring(requests.get(rss).content)\n",
    "#items=noticias.xpath(\"//item/guid\")\n",
    "idx=0\n",
    "for url in urls:\n",
    "    pagina=html.fromstring(requests.get(url).content)\n",
    "    articulos=pagina.xpath(\"//article\")\n",
    "    noticias=[]\n",
    "    for articulo in articulos:\n",
    "        enlace=articulo.findall(\"h2/a\")\n",
    "        if(len(enlace)>0):\n",
    "            href=enlace[0].attrib.get(\"href\")\n",
    "            if(href[0]==\"/\"):\n",
    "                #print(href)\n",
    "                noticias.append(url+href)\n",
    "    scapArticuloPais(idx, noticias)\n",
    "    idx=idx+1\n",
    "##print(noticias)"
   ]
  },
  {
   "cell_type": "code",
   "execution_count": 99,
   "metadata": {},
   "outputs": [
    {
     "name": "stdout",
     "output_type": "stream",
     "text": "6\nBundesliga\n6\nFirst Division A\n6\nChampionship\n6\nLigue 1\n6\nSerie A\n6\nLa Liga\n6\nLa Liga 2\n6\nSerie B\n6\nPrimeira Liga\n6\nSuperliga\n6\nSuperliga\n6\nLiga MX\n6\nLiga MX\n6\nLiga MX\n6\nA-League\n6\nA-League\n6\nSüper Lig\n6\n2. Bundesliga\n6\n2. Bundesliga\n6\n2. Bundesliga\n6\n2. Bundesliga\n6\nLa Liga\n6\nChampionship\n6\nPremier League\n6\nLigue 2\n6\nSerie A\n6\nSerie B\n6\nSerie B\n6\nSerie B\n6\nSerie B\n6\nSüper Lig\n6\nBundesliga\n6\nBundesliga\n6\nBundesliga\n6\nBundesliga\n6\nChampionship\n6\nChampionship\n6\nChampionship\n6\nChampionship\n6\nChampionship\n6\nChampionship\n6\nChampionship\n6\nChampionship\n6\nChampionship\n6\nChampionship\n6\nLa Liga\n6\nLa Liga 2\n6\nLa Liga 2\n6\nLeague One\n6\nLeague One\n6\nLeague One\n6\nLeague One\n6\nLeague One\n6\nLeague One\n6\nLeague One\n6\nLeague One\n6\nLeague One\n6\nLeague One\n6\nLeague One\n6\nLeague Two\n6\nLeague Two\n6\nLeague Two\n6\nLeague Two\n6\nLeague Two\n6\nLeague Two\n6\nLeague Two\n6\nLeague Two\n6\nLeague Two\n6\nLeague Two\n6\nLeague Two\n6\nLeague Two\n6\nPremier League\n6\nPremier League\n6\nPremier League\n6\nPremier League\n6\nPremiership\n6\nPremiership\n6\nPremiership\n6\nBundesliga\n6\nBundesliga\n6\nBundesliga\n6\nLigue 1\n6\nFirst Division A\n6\nSerie A\n6\nSerie B\n6\nSüper Lig\n6\nLa Liga 2\n6\nLa Liga 2\n6\nBundesliga\n6\nEredivisie\n6\nLa Liga\n6\nPremier League\n6\nSuper League\n6\nPrimeira Liga\n6\nSuper League\n6\nSuper League\n6\nSuper League\n6\nEredivisie\n6\nEredivisie\n6\nFirst Division A\n6\nFirst Division A\n6\nLigue 1\n6\nLigue 1\n6\nLigue 1\n6\nLigue 1\n6\nFirst Division A\n6\nLa Liga 2\n6\nEredivisie\n6\nSerie A\n6\nLa Liga\n6\nPrimeira Liga\n6\nSuperliga\n6\nSuperliga\n6\nLiga MX\n6\nSuperliga\n6\nSuperliga\n6\nLiga MX\n6\nLiga MX\n6\nA-League\n6\nSüper Lig\n6\nLa Liga\n6\nLa Liga 2\n6\nSuperliga\n6\nEredivisie\n6\nSerie A\n6\n2. Bundesliga\n6\n2. Bundesliga\n6\n2. Bundesliga\n6\nLa Liga\n6\nSuper League\n6\nSuperliga\n6\nSuperliga\n6\nSüper Lig\n6\nBundesliga\n6\nBundesliga\n6\nEredivisie\n6\nEredivisie\n6\nFirst Division A\n6\nPremiership\n6\nLigue 1\n6\nPremier League\n6\nPremier League\n6\nSerie A\n6\nSerie A\n6\nSerie A\n6\nSerie B\n6\nSerie B\n6\nBundesliga\n6\nLa Liga\n6\nLa Liga 2\n6\nPremiership\n6\nPrimeira Liga\n6\nPrimeira Liga\n6\nSuper League\n6\nSuper League\n6\nSuper League\n6\nSuperliga\n6\nSuper League\n6\nSuper League\n6\nEredivisie\n6\nBundesliga\n6\nLigue 1\n6\nSüper Lig\n6\nPremier League\n6\nBundesliga\n6\nFirst Division A\n6\nSerie A\n6\nSuperliga\n6\nLa Liga 2\n6\nLa Liga 2\n6\nLa Liga\n6\nPrimeira Liga\n6\nSuper League\n6\nSuper League\n6\nLiga MX\n6\nFirst Division A\n6\nSerie A\n6\nLa Liga\n6\nLa Liga 2\n6\nLigue 1\n6\nPrimeira Liga\n6\nSerie B\n6\nPrimeira Liga\n6\nSuperliga\n6\nSuperliga\n6\nLiga MX\n6\nSuperliga\n6\nLiga MX\n6\nSüper Lig\n6\nSüper Lig\n6\nSuperliga\n6\nBundesliga\n6\nPrimeira Liga\n6\nLigue 2\n6\nPremier League\n6\nSerie B\n6\nSuperliga\n6\nSuperliga\n6\nSuperliga\n6\nLeague Two\n6\nPremiership\n6\nUEFA Champions League\n6\nUEFA Champions League\n6\nUEFA Europa League\n6\nUEFA Champions League\n6\nUEFA Champions League\n6\nUEFA Europa League\n6\nUEFA Europa League\n6\nUEFA Europa League\n6\nUEFA Europa League\n6\nUEFA Europa League\n6\nUEFA Europa League\n6\nUEFA Europa League\n6\nUEFA Europa League\n6\nUEFA Europa League\n6\nUEFA Europa League\n6\nUEFA Europa League\n6\nUEFA Europa League\n6\nUEFA Europa League\n6\nUEFA Europa League\n6\nUEFA Europa League\n6\nA-League\n6\nPremier League\n6\nPremier Division\n6\nSuperliga\n6\nLigue 2\n6\nLigue 2\n6\nLigue 2\n6\nLigue 2\n6\nLigue 2\n6\nLigue 2\n6\nLigue 2\n6\nLigue 2\n6\nA-League\n6\nPremier League\n6\n2. Bundesliga\n6\n2. Bundesliga\n6\nPremier Division\n6\nPremier Division\n6\nPremier League\n6\nLigue 2\n6\nLeague One\n6\nPremier Division\n6\nPremier League\n6\nPremier League\n6\nMLS\n6\nPremier Division\n6\nLigue 1\n6\nMLS\n6\nMLS\n6\nMLS\n6\nMLS\n6\nMLS\n6\nMLS\n6\nMLS\n6\nA-League\n6\nA-League\n6\nPremier League\n6\nEredivisie\n6\n2. Bundesliga\n6\n2. Bundesliga\n6\nSüper Lig\n6\nPremier Division\n6\nPremier Division\n6\nPremier Division\n6\nPremier League\n6\nEredivisie\n6\nLigue 1\n6\nPremier League\n6\nSüper Lig\n6\nMLS\n6\nMLS\n6\nMLS\n6\nMLS\n6\nMLS\n6\nSuperliga\n6\nLigue 2\n6\nLeague Two\n6\nLeague Two\n6\nSuperliga\n"
    }
   ],
   "source": [
    "url=\"https://projects.fivethirtyeight.com/soccer-predictions/matches/\"\n",
    "\n",
    "pagina=html.fromstring(requests.get(url).content)\n",
    "tbody=pagina.xpath(\"//table[@id='all-matches']/tbody\")\n",
    "for fila in tbody[0].getchildren():\n",
    "    celdas=fila.findall(\"td\")\n",
    "    print(len(celdas))\n",
    "    print(celdas[0].findall(\"div[@class='time-league']\")[0].text)\n",
    "    #for texto in celdas[0].itertext():\n",
    "    #    print(texto)\n",
    "\n"
   ]
  }
 ]
}